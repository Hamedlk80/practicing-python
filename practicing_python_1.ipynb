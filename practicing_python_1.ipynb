{
  "nbformat": 4,
  "nbformat_minor": 0,
  "metadata": {
    "colab": {
      "provenance": [],
      "collapsed_sections": [
        "bKlXLyePT8qw",
        "5fIb3w4TT-4j",
        "ASEu5rDAiJqK"
      ]
    },
    "kernelspec": {
      "name": "python3",
      "display_name": "Python 3"
    },
    "language_info": {
      "name": "python"
    }
  },
  "cells": [
    {
      "cell_type": "markdown",
      "source": [
        "# part one"
      ],
      "metadata": {
        "id": "bKlXLyePT8qw"
      }
    },
    {
      "cell_type": "code",
      "execution_count": null,
      "metadata": {
        "colab": {
          "base_uri": "https://localhost:8080/"
        },
        "id": "6iVjj2QF17yS",
        "outputId": "2b13a7cd-8f5d-4ea4-c086-5cb7f41cacd6"
      },
      "outputs": [
        {
          "output_type": "stream",
          "name": "stdout",
          "text": [
            "please insert your sentence=salam\n",
            "how many times do you want to see your sentence? just say the number=8\n",
            "salam\n",
            "salam\n",
            "salam\n",
            "salam\n",
            "salam\n",
            "salam\n",
            "salam\n",
            "salam\n"
          ]
        }
      ],
      "source": [
        "sentence = input('please insert your sentence=')\n",
        "number = input('how many times do you want to see your sentence? just say the number=')\n",
        "number_int = int(number)\n",
        "while number_int>0 :\n",
        "  print(sentence)\n",
        "  number_int=number_int-1"
      ]
    },
    {
      "cell_type": "code",
      "source": [
        "sentence = input('please insert your sentence=')\n",
        "number = input('how many times do you want to see your sentence? just say the number=')\n",
        "number_int = int(number)\n",
        "while number_int>0 :\n",
        "  print(sentence)\n",
        "  number_int-=1"
      ],
      "metadata": {
        "colab": {
          "base_uri": "https://localhost:8080/"
        },
        "id": "ETScvVaFEN29",
        "outputId": "f3d1a92d-7c13-42dd-9778-c455c5c48001"
      },
      "execution_count": null,
      "outputs": [
        {
          "output_type": "stream",
          "name": "stdout",
          "text": [
            "please insert your sentence=salam\n",
            "how many times do you want to see your sentence? just say the number=8\n",
            "salam\n",
            "salam\n",
            "salam\n",
            "salam\n",
            "salam\n",
            "salam\n",
            "salam\n",
            "salam\n"
          ]
        }
      ]
    },
    {
      "cell_type": "code",
      "source": [
        "number = input('please insert your number=')\n",
        "number_int = int(number)\n",
        "if number_int % 2 == 1 :\n",
        "  print(f'{number_int} is odd')\n",
        "else:\n",
        "  print(f'{number_int} is even')"
      ],
      "metadata": {
        "colab": {
          "base_uri": "https://localhost:8080/"
        },
        "id": "qPAnXl_yDmmV",
        "outputId": "5c943c30-e7cb-404f-bc4f-308d123c72cc"
      },
      "execution_count": null,
      "outputs": [
        {
          "output_type": "stream",
          "name": "stdout",
          "text": [
            "please insert your number=8\n",
            "8 is even\n"
          ]
        }
      ]
    },
    {
      "cell_type": "code",
      "source": [
        "number = input('give me a natural number and i will tell you the sum of 1 to N of the number=')\n",
        "number_int = int(number)\n",
        "sum = 0\n",
        "while number_int>0 :\n",
        "  sum+= number_int\n",
        "  number_int-=1\n",
        "print(sum)"
      ],
      "metadata": {
        "colab": {
          "base_uri": "https://localhost:8080/"
        },
        "id": "lcTSM2d3HJSK",
        "outputId": "7a3de039-7b20-4dbb-a654-bb76575fc56a"
      },
      "execution_count": null,
      "outputs": [
        {
          "output_type": "stream",
          "name": "stdout",
          "text": [
            "give me a natural number and i will tell you the sum of 1 to N of the number=4\n",
            "10\n"
          ]
        }
      ]
    },
    {
      "cell_type": "code",
      "source": [
        "target = 42\n",
        "number = input('guess the number=')\n",
        "while int(number) != target :\n",
        "  number = input('guess the number again=')\n",
        "print(f'you guessed right . the number is {number}')"
      ],
      "metadata": {
        "colab": {
          "base_uri": "https://localhost:8080/"
        },
        "id": "pPRc-DokHJM2",
        "outputId": "8681e58f-3229-40be-bc89-10b1279e17b8"
      },
      "execution_count": null,
      "outputs": [
        {
          "output_type": "stream",
          "name": "stdout",
          "text": [
            "guess the number=24\n",
            "guess the number again=56\n",
            "guess the number again=42\n",
            "you guessed right . the number is 42\n"
          ]
        }
      ]
    },
    {
      "cell_type": "code",
      "source": [
        "number = input('enter a number=')\n",
        "number_int = int(number)\n",
        "dot = [1,2,3,4,5,6,7,8,9,10]\n",
        "for numbers in dot :\n",
        "  answer = number_int * numbers\n",
        "  print(f'{number_int}*{numbers} = {answer}')\n"
      ],
      "metadata": {
        "colab": {
          "base_uri": "https://localhost:8080/"
        },
        "id": "pWNu6xnAQeqh",
        "outputId": "6acc5063-db54-4e09-d916-5d553f4f1803"
      },
      "execution_count": null,
      "outputs": [
        {
          "output_type": "stream",
          "name": "stdout",
          "text": [
            "enter a number=2\n",
            "2*1 = 2\n",
            "2*2 = 4\n",
            "2*3 = 6\n",
            "2*4 = 8\n",
            "2*5 = 10\n",
            "2*6 = 12\n",
            "2*7 = 14\n",
            "2*8 = 16\n",
            "2*9 = 18\n",
            "2*10 = 20\n"
          ]
        }
      ]
    },
    {
      "cell_type": "markdown",
      "source": [
        "# part two"
      ],
      "metadata": {
        "id": "5fIb3w4TT-4j"
      }
    },
    {
      "cell_type": "code",
      "source": [
        "previus = float('-inf')\n",
        "tell = ['first','second','third','forth','fifth']\n",
        "for i in range(0,5):\n",
        "  insert=input(f'please enter {tell[i]} number=')\n",
        "  number = float(insert)\n",
        "  if number > previus:\n",
        "    previus = number\n",
        "  else:\n",
        "    pass\n",
        "\n",
        "\n",
        "\n",
        "print(f'maximum of 5 numbers is {previus}')\n",
        "#numbers = input('please enter 5 numbers and seperate them by camma=')\n",
        "# five_numbers = list(numbers)\n",
        "# print(five_numbers)"
      ],
      "metadata": {
        "colab": {
          "base_uri": "https://localhost:8080/"
        },
        "id": "mjzcIG6EUAPc",
        "outputId": "15a53c30-0ca0-428b-b54c-60bf3b37ab01"
      },
      "execution_count": null,
      "outputs": [
        {
          "output_type": "stream",
          "name": "stdout",
          "text": [
            "please enter first number=-5\n",
            "please enter second number=-10\n",
            "please enter third number=-16\n",
            "please enter forth number=-7\n",
            "please enter fifth number=-9\n",
            "maximum of 5 numbers is -5.0\n"
          ]
        }
      ]
    },
    {
      "cell_type": "code",
      "source": [
        "number = input('enter a number=')\n",
        "int_number = int(number)\n",
        "if int_number <= 1 :\n",
        "  print('there are no prime numbers for showing')\n",
        "else:\n",
        "  for i in range(2,int_number+1):\n",
        "    for j in range(2,i+1):\n",
        "      if i % j == 0 and i==j:\n",
        "        print(i)\n",
        "      elif i % j == 0:\n",
        "        break"
      ],
      "metadata": {
        "colab": {
          "base_uri": "https://localhost:8080/"
        },
        "id": "bmu0BS0FKXFu",
        "outputId": "b879052b-0d5a-4cef-a90f-be786db5830b"
      },
      "execution_count": null,
      "outputs": [
        {
          "output_type": "stream",
          "name": "stdout",
          "text": [
            "enter a number=12\n",
            "2\n",
            "3\n",
            "5\n",
            "7\n",
            "11\n"
          ]
        }
      ]
    },
    {
      "cell_type": "code",
      "source": [
        "string = input('enter a string=')\n",
        "lst = list(string)\n",
        "print(len(string))\n",
        "stringg= ''\n",
        "# listt.append()\n",
        "for i in range(0,len(lst)):\n",
        "  stringg = str(lst[i]) + stringg\n",
        "print(stringg)"
      ],
      "metadata": {
        "colab": {
          "base_uri": "https://localhost:8080/"
        },
        "id": "QvPvt8u_KXCO",
        "outputId": "93e69b98-3860-4d6f-886f-9fc63667d165"
      },
      "execution_count": null,
      "outputs": [
        {
          "output_type": "stream",
          "name": "stdout",
          "text": [
            "enter a string=ghf\n",
            "3\n",
            "fhg\n"
          ]
        }
      ]
    },
    {
      "cell_type": "code",
      "source": [
        "print(stringg[0])"
      ],
      "metadata": {
        "colab": {
          "base_uri": "https://localhost:8080/"
        },
        "id": "b5ab4f_Skwmz",
        "outputId": "62c7f65a-29eb-42a5-dfdc-7f0e61720582"
      },
      "execution_count": null,
      "outputs": [
        {
          "output_type": "stream",
          "name": "stdout",
          "text": [
            "f\n"
          ]
        }
      ]
    },
    {
      "cell_type": "code",
      "source": [
        "string = input('enter a string=')\n",
        "lst = list(string)\n",
        "print(lst)\n",
        "print(string + 'f')\n",
        "lst.extend('fg')\n",
        "print(lst)"
      ],
      "metadata": {
        "colab": {
          "base_uri": "https://localhost:8080/"
        },
        "id": "sHqm5IIA_e3_",
        "outputId": "f62af5cb-97b3-4daa-8c0c-9766943b87c2"
      },
      "execution_count": null,
      "outputs": [
        {
          "output_type": "stream",
          "name": "stdout",
          "text": [
            "enter a string=gh\n",
            "['g', 'h']\n",
            "ghf\n",
            "['g', 'h', 'f', 'g']\n"
          ]
        }
      ]
    },
    {
      "cell_type": "code",
      "source": [
        "text = \"salam\"\n",
        "print(text[::-1])  # این همون slicing هست"
      ],
      "metadata": {
        "colab": {
          "base_uri": "https://localhost:8080/"
        },
        "id": "p8cxsrIf7eic",
        "outputId": "6c57d7b9-bae4-48ee-dac2-6e13ecb38c57"
      },
      "execution_count": null,
      "outputs": [
        {
          "output_type": "stream",
          "name": "stdout",
          "text": [
            "malas\n"
          ]
        }
      ]
    },
    {
      "cell_type": "code",
      "source": [
        "insert = input('enter the number of fibonatchi numbers that you want to see=')\n",
        "number = int(insert)\n",
        "lst = [0,1]\n",
        "if number <= 0:\n",
        "  print('nothing to show')\n",
        "elif number == 1:\n",
        "  print(lst[0])\n",
        "elif number == 2:\n",
        "  print(lst[0:2])\n",
        "else :\n",
        "  for i in range(2,number+1):\n",
        "    lst.append(lst[i-1]+lst[i-2])\n",
        "  print(lst)\n"
      ],
      "metadata": {
        "colab": {
          "base_uri": "https://localhost:8080/"
        },
        "id": "-bw4Ooymk4n7",
        "outputId": "2e485c52-3af5-484c-ee6b-7e2427223446"
      },
      "execution_count": null,
      "outputs": [
        {
          "output_type": "stream",
          "name": "stdout",
          "text": [
            "enter the number of fibonatchi numbers that you want to see=8\n",
            "[0, 1, 1, 2, 3, 5, 8, 13, 21]\n"
          ]
        }
      ]
    },
    {
      "cell_type": "code",
      "source": [
        "insert = input('enter the numbers seperate them with space , i will tell you which of them are repeated more than one time=')\n",
        "numbers = insert.split(' ')\n",
        "print(numbers)\n",
        "st = set()\n",
        "for i in range(0,len(numbers)):\n",
        "  for j in range(0,len(numbers)):\n",
        "    if i != j:\n",
        "      if numbers[i] == numbers[j]:\n",
        "        st.add(numbers[i])\n",
        "    else:\n",
        "      pass\n",
        "print(st)"
      ],
      "metadata": {
        "colab": {
          "base_uri": "https://localhost:8080/"
        },
        "id": "h2Rj2nEho-HS",
        "outputId": "420f60d7-89a9-4574-970e-af14b8fd685e"
      },
      "execution_count": null,
      "outputs": [
        {
          "output_type": "stream",
          "name": "stdout",
          "text": [
            "enter the numbers seperate them with space , i will tell you which of them are repeated more than one time=5 6 7 8 9 5 7 10\n",
            "['5', '6', '7', '8', '9', '5', '7', '10']\n",
            "{'7', '5'}\n"
          ]
        }
      ]
    },
    {
      "cell_type": "markdown",
      "source": [
        "# part three"
      ],
      "metadata": {
        "id": "ASEu5rDAiJqK"
      }
    },
    {
      "cell_type": "code",
      "source": [
        "insert = input('enter the string=')\n",
        "string = ''\n",
        "#print(insert[0])\n",
        "for i in range(0,len(insert)):\n",
        "  string = string +\n",
        "\n"
      ],
      "metadata": {
        "id": "r_OXew8OiME1",
        "colab": {
          "base_uri": "https://localhost:8080/"
        },
        "outputId": "057984c1-49c8-4e63-bbed-57a8ce01cfd8"
      },
      "execution_count": null,
      "outputs": [
        {
          "output_type": "stream",
          "name": "stdout",
          "text": [
            "enter the string=hello\n",
            "h\n"
          ]
        }
      ]
    },
    {
      "cell_type": "code",
      "source": [
        "insert = input('enter the numbers seperate them with space , i will tell you which of them are repeated more than one time=')\n"
      ],
      "metadata": {
        "id": "Xzzn7ObgrtK5"
      },
      "execution_count": null,
      "outputs": []
    },
    {
      "cell_type": "code",
      "source": [
        "insert = input('enter the numbers seperate them with space , i will tell you which of them are repeated more than one time=')\n"
      ],
      "metadata": {
        "id": "D3bikjmYrtpY"
      },
      "execution_count": null,
      "outputs": []
    },
    {
      "cell_type": "code",
      "source": [
        "insert = input('enter the numbers seperate them with space , i will tell you which of them are repeated more than one time=')\n"
      ],
      "metadata": {
        "id": "_TgwcPDfruBf"
      },
      "execution_count": null,
      "outputs": []
    },
    {
      "cell_type": "code",
      "source": [
        "insert = input('enter the numbers seperate them with space , i will tell you which of them are repeated more than one time=')\n"
      ],
      "metadata": {
        "id": "EqMnAWteruZA"
      },
      "execution_count": null,
      "outputs": []
    }
  ]
}