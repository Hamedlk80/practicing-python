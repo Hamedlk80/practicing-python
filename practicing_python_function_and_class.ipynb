{
  "nbformat": 4,
  "nbformat_minor": 0,
  "metadata": {
    "colab": {
      "provenance": [],
      "collapsed_sections": [
        "mhRcCnNheJ8O",
        "kAJZHag-mW1E"
      ]
    },
    "kernelspec": {
      "name": "python3",
      "display_name": "Python 3"
    },
    "language_info": {
      "name": "python"
    }
  },
  "cells": [
    {
      "cell_type": "markdown",
      "source": [
        "# part one"
      ],
      "metadata": {
        "id": "mhRcCnNheJ8O"
      }
    },
    {
      "cell_type": "code",
      "source": [
        "def SUM(x,y):\n",
        "  # x= int(input('enter first number='))\n",
        "  # y= int(input('enter second number='))\n",
        "  return f'sum of {x} and {y} is {x+y}'\n",
        "SUM(y=3 , x=2)"
      ],
      "metadata": {
        "colab": {
          "base_uri": "https://localhost:8080/",
          "height": 36
        },
        "id": "KhEYGcPQeJRK",
        "outputId": "4a153721-2b70-44d8-8895-3bdbb09ddaef"
      },
      "execution_count": null,
      "outputs": [
        {
          "output_type": "execute_result",
          "data": {
            "text/plain": [
              "'sum of 2 and 3 is 5'"
            ],
            "application/vnd.google.colaboratory.intrinsic+json": {
              "type": "string"
            }
          },
          "metadata": {},
          "execution_count": 6
        }
      ]
    },
    {
      "cell_type": "code",
      "execution_count": null,
      "metadata": {
        "colab": {
          "base_uri": "https://localhost:8080/",
          "height": 36
        },
        "id": "K4O4y-_EeIIb",
        "outputId": "ade828e4-6254-4885-aef0-b7092023f789"
      },
      "outputs": [
        {
          "output_type": "execute_result",
          "data": {
            "text/plain": [
              "'2 is even'"
            ],
            "application/vnd.google.colaboratory.intrinsic+json": {
              "type": "string"
            }
          },
          "metadata": {},
          "execution_count": 5
        }
      ],
      "source": [
        "def zojyafard(x):\n",
        "  if x%2==0:\n",
        "    return f'{x} is even'\n",
        "  else:\n",
        "    return f'{x} is odd'\n",
        "\n",
        "zojyafard(x=2)"
      ]
    },
    {
      "cell_type": "code",
      "source": [
        "def faqtoriel(x):\n",
        "  if x<0 :\n",
        "    return f'{x} has no faqtoriel'\n",
        "  else:\n",
        "      i = 1\n",
        "      main_number = x\n",
        "      while x>0:\n",
        "        i *= x\n",
        "        x = x-1\n",
        "      return f'faqtoriel {main_number} is {i}'\n",
        "\n",
        "faqtoriel(5)"
      ],
      "metadata": {
        "colab": {
          "base_uri": "https://localhost:8080/",
          "height": 36
        },
        "id": "LapRlXbw1cSj",
        "outputId": "ea850efe-4ed0-4754-8c38-98e1a6af939c"
      },
      "execution_count": null,
      "outputs": [
        {
          "output_type": "execute_result",
          "data": {
            "text/plain": [
              "'faqtoriel 5 is 120'"
            ],
            "application/vnd.google.colaboratory.intrinsic+json": {
              "type": "string"
            }
          },
          "metadata": {},
          "execution_count": 7
        }
      ]
    },
    {
      "cell_type": "code",
      "source": [
        "def aksereshte(string):\n",
        "  if len(string)<=0 :\n",
        "    return f'{string}'\n",
        "  else:\n",
        "    reshteye_jadid = ''\n",
        "    for i in range(0,len(string)):\n",
        "      reshteye_jadid = string[i] + reshteye_jadid\n",
        "    return f'reverse of {string} is {reshteye_jadid}'\n",
        "aksereshte('nahr')"
      ],
      "metadata": {
        "colab": {
          "base_uri": "https://localhost:8080/",
          "height": 36
        },
        "id": "fEg3vZa348c1",
        "outputId": "6544866c-276b-4079-d837-ade98bd34240"
      },
      "execution_count": null,
      "outputs": [
        {
          "output_type": "execute_result",
          "data": {
            "text/plain": [
              "'reverse of nahr is rhan'"
            ],
            "application/vnd.google.colaboratory.intrinsic+json": {
              "type": "string"
            }
          },
          "metadata": {},
          "execution_count": 9
        }
      ]
    },
    {
      "cell_type": "code",
      "source": [
        "def fibonatchy(n):\n",
        "  fibo_list=[0,1]\n",
        "  if n<0:\n",
        "    return f'{n} is negetive'\n",
        "  elif n==0 :\n",
        "    return [0]\n",
        "  elif n==1 :\n",
        "    return [1]\n",
        "  else:\n",
        "    for i in range(2,n):\n",
        "      fibo_list.append(fibo_list[i-1]+fibo_list[i-2])\n",
        "    return fibo_list\n",
        "fibonatchy(4)"
      ],
      "metadata": {
        "colab": {
          "base_uri": "https://localhost:8080/"
        },
        "id": "xSQlbLz1_wne",
        "outputId": "b67e1f57-0901-4adb-99f6-0caf9cf56b09"
      },
      "execution_count": null,
      "outputs": [
        {
          "output_type": "execute_result",
          "data": {
            "text/plain": [
              "[0, 1, 1, 2]"
            ]
          },
          "metadata": {},
          "execution_count": 12
        }
      ]
    },
    {
      "cell_type": "markdown",
      "source": [
        "# part two"
      ],
      "metadata": {
        "id": "kAJZHag-mW1E"
      }
    },
    {
      "cell_type": "code",
      "source": [
        "import math\n",
        "class circle:\n",
        "  def __init__(self , radius):\n",
        "    self.radius = radius\n",
        "\n",
        "  def square(self):\n",
        "\n",
        "    return f'square of circle with {self.radius} radius is {2*self.radius*math.pi}'\n",
        "  def area(self):\n",
        "    return f'area of circle with {self.radius} radius is {(self.radius**2)*math.pi}'"
      ],
      "metadata": {
        "id": "SCCbJA7JDPiV"
      },
      "execution_count": null,
      "outputs": []
    },
    {
      "cell_type": "code",
      "source": [
        "c = circle(4)\n",
        "print(c.square())\n",
        "print(c.area())"
      ],
      "metadata": {
        "id": "ycDPX5plmbnC",
        "colab": {
          "base_uri": "https://localhost:8080/"
        },
        "outputId": "19de1e2d-4532-4073-8f3d-b103de71bd65"
      },
      "execution_count": null,
      "outputs": [
        {
          "output_type": "stream",
          "name": "stdout",
          "text": [
            "square of circle with 4 radius is 25.132741228718345\n",
            "area of circle with 4 radius is 50.26548245743669\n"
          ]
        }
      ]
    },
    {
      "cell_type": "code",
      "source": [
        "class Student:\n",
        "  def __init__(self,student_id,name,grades=None):\n",
        "    self.student_id=student_id\n",
        "    self.name=name\n",
        "    self.grades=grades\n",
        "    self.sum = 0\n",
        "  def add_grades(self):\n",
        "    self.grades = input(f'enter grades of {self.name} with this student_id {self.student_id} and seperate them by camma=')\n",
        "    self.grades = self.grades.split(',')\n",
        "    # print(self.grades)\n",
        "    # print(type(self.grades))\n",
        "    for i in range(0,len(self.grades)):\n",
        "      self.grades[i] = float(self.grades[i])\n",
        "  def avg(self):\n",
        "    for i in range(0,len(self.grades)):\n",
        "      self.sum += self.grades[i]\n",
        "      if i==len(self.grades)-1 :\n",
        "          return f'average of {self.grades} is {self.sum/(len(self.grades))}'"
      ],
      "metadata": {
        "id": "438Ai2jfmbjk"
      },
      "execution_count": null,
      "outputs": []
    },
    {
      "cell_type": "code",
      "source": [
        "d = Student(1,\"hamed\")\n",
        "d.add_grades()"
      ],
      "metadata": {
        "id": "Ksqexhr2mbgz",
        "colab": {
          "base_uri": "https://localhost:8080/"
        },
        "outputId": "122788e5-041c-46c3-8004-d226d5ef6207"
      },
      "execution_count": null,
      "outputs": [
        {
          "name": "stdout",
          "output_type": "stream",
          "text": [
            "enter grades of hamed with this student_id 1 and seperate them by camma=16,17,18\n"
          ]
        }
      ]
    },
    {
      "cell_type": "code",
      "source": [
        "d.avg()"
      ],
      "metadata": {
        "id": "8hQ9JxvrmbeS",
        "colab": {
          "base_uri": "https://localhost:8080/",
          "height": 36
        },
        "outputId": "7eeb1bbb-323b-4b45-8471-5d70109ffc34"
      },
      "execution_count": null,
      "outputs": [
        {
          "output_type": "execute_result",
          "data": {
            "text/plain": [
              "'average of [16.0, 17.0, 18.0] is 17.0'"
            ],
            "application/vnd.google.colaboratory.intrinsic+json": {
              "type": "string"
            }
          },
          "metadata": {},
          "execution_count": 32
        }
      ]
    },
    {
      "cell_type": "code",
      "source": [
        "st= 'aaa'\n",
        "ls = ['3','2','1']\n",
        "print(len(st),len(ls),sep='\\n')"
      ],
      "metadata": {
        "id": "MER4yT_xmbbG",
        "colab": {
          "base_uri": "https://localhost:8080/"
        },
        "outputId": "d721da90-e125-4562-8939-8c1d50e00f27"
      },
      "execution_count": null,
      "outputs": [
        {
          "output_type": "stream",
          "name": "stdout",
          "text": [
            "3\n",
            "3\n"
          ]
        }
      ]
    },
    {
      "cell_type": "code",
      "source": [
        "class Student:\n",
        "  def __init__(self,student_id,name,grades=[]):\n",
        "    self.student_id=student_id\n",
        "    self.name=name\n",
        "    self.grades=grades\n",
        "    self.sum = 0\n",
        "  def add_grades(self,grade):\n",
        "    self.grades.append(grade)\n",
        "\n",
        "  def avg(self):\n",
        "    for i in range(0,len(self.grades)):\n",
        "      self.sum += self.grades[i]\n",
        "      if i==len(self.grades)-1 :\n",
        "          return f'average of {self.grades} is {self.sum/(len(self.grades))}'"
      ],
      "metadata": {
        "id": "NFnUYmkzShjI"
      },
      "execution_count": null,
      "outputs": []
    },
    {
      "cell_type": "code",
      "source": [
        "d = Student(1,\"hamed\")\n",
        "d.add_grades(16)"
      ],
      "metadata": {
        "id": "qC8OjTalTrH0"
      },
      "execution_count": null,
      "outputs": []
    },
    {
      "cell_type": "code",
      "source": [
        "d.add_grades(17)"
      ],
      "metadata": {
        "id": "BxeRHQ7XT9jl"
      },
      "execution_count": null,
      "outputs": []
    },
    {
      "cell_type": "code",
      "source": [
        "d.add_grades(18)"
      ],
      "metadata": {
        "id": "BTA-4hJEUBMu"
      },
      "execution_count": null,
      "outputs": []
    },
    {
      "cell_type": "code",
      "source": [
        "d.avg()"
      ],
      "metadata": {
        "colab": {
          "base_uri": "https://localhost:8080/",
          "height": 36
        },
        "id": "vGPQc07OTwzc",
        "outputId": "145c21e4-f9fb-4192-9e6d-cdc3e9fa831e"
      },
      "execution_count": null,
      "outputs": [
        {
          "output_type": "execute_result",
          "data": {
            "text/plain": [
              "'average of [16, 17, 18] is 17.0'"
            ],
            "application/vnd.google.colaboratory.intrinsic+json": {
              "type": "string"
            }
          },
          "metadata": {},
          "execution_count": 67
        }
      ]
    },
    {
      "cell_type": "code",
      "source": [
        "des = []\n",
        "print(type(des))"
      ],
      "metadata": {
        "colab": {
          "base_uri": "https://localhost:8080/"
        },
        "id": "R-N1danAVriU",
        "outputId": "75b30cd8-7de9-42c3-9dc0-429789990dd8"
      },
      "execution_count": null,
      "outputs": [
        {
          "output_type": "stream",
          "name": "stdout",
          "text": [
            "<class 'list'>\n"
          ]
        }
      ]
    },
    {
      "cell_type": "code",
      "source": [
        "class Student:\n",
        "  def __init__(self,student_id,name,grades=[]):\n",
        "    self.student_id=student_id\n",
        "    self.name=name\n",
        "    self.grades=grades\n",
        "  def add_grades(self,grade):\n",
        "    self.grades.append(grade)\n",
        "\n",
        "  def avg(self):\n",
        "    summ = 0\n",
        "    for i in range(0,len(self.grades)):\n",
        "      summ += self.grades[i]\n",
        "      if i==len(self.grades)-1 :\n",
        "          return f'average of {self.grades} is {summ/(len(self.grades))}'"
      ],
      "metadata": {
        "id": "ulYDnhouc8Ax"
      },
      "execution_count": null,
      "outputs": []
    },
    {
      "cell_type": "code",
      "source": [
        "class BankAccount:\n",
        "  def __init__(self,owner,balance):\n",
        "    self.owner = owner\n",
        "    self.balance = balance\n",
        "\n",
        "  def deposit(self,invest_money):\n",
        "    self.balance += invest_money\n",
        "    print(f'{self.owner},here is your new balance ={self.balance}')\n",
        "\n",
        "  def withdraw(self,take_out_money):\n",
        "    if take_out_money > self.balance:\n",
        "      print(f'{self.owner},not enough balance for your request is available')\n",
        "    else:\n",
        "      self.balance -= take_out_money\n",
        "      print(f'{self.owner},here is your {take_out_money}')"
      ],
      "metadata": {
        "id": "QGdELf0GdPtn"
      },
      "execution_count": null,
      "outputs": []
    },
    {
      "cell_type": "code",
      "source": [
        "d1 = BankAccount('hamed',10000)\n",
        "d2 = BankAccount('ali',15000)"
      ],
      "metadata": {
        "id": "kM-kQ4c4NY4t"
      },
      "execution_count": null,
      "outputs": []
    },
    {
      "cell_type": "code",
      "source": [
        "d1.deposit(500)"
      ],
      "metadata": {
        "colab": {
          "base_uri": "https://localhost:8080/"
        },
        "id": "p67RfAC4NYrC",
        "outputId": "78f4f90d-fac2-4dde-d01f-02cae8ba63d4"
      },
      "execution_count": null,
      "outputs": [
        {
          "output_type": "stream",
          "name": "stdout",
          "text": [
            "hamed,here is your new balance =10500\n"
          ]
        }
      ]
    },
    {
      "cell_type": "code",
      "source": [
        "d2.withdraw(500)"
      ],
      "metadata": {
        "colab": {
          "base_uri": "https://localhost:8080/"
        },
        "id": "uylpPmnrRRag",
        "outputId": "a9afd498-0253-4ed1-c1f6-a6f9a0b052a5"
      },
      "execution_count": null,
      "outputs": [
        {
          "output_type": "stream",
          "name": "stdout",
          "text": [
            "ali,here is your 500\n"
          ]
        }
      ]
    },
    {
      "cell_type": "code",
      "source": [
        "class Car:\n",
        "  def __init__(self,brand,model,year,speed):\n",
        "    self.brand = brand\n",
        "    self.model = model\n",
        "    self.year = year\n",
        "    self.speed = speed\n",
        "  def accelerate(self,increase_speed):\n",
        "    self.speed += increase_speed\n",
        "  def brake(self,decrease_speed):\n",
        "    self.speed -= decrease_speed\n",
        "  def info(self):\n",
        "    print(f'car\\'s information :\\n brand={self.brand} \\n model={self.model} \\n year={self.year} \\n speed={self.speed}')"
      ],
      "metadata": {
        "id": "THeG5e2sRdeU"
      },
      "execution_count": null,
      "outputs": []
    },
    {
      "cell_type": "code",
      "source": [
        "d1 = Car('audi','x3','2008',60)\n",
        "d2 = Car('BMW','x4','2018',80)"
      ],
      "metadata": {
        "id": "NuxZfVc1Rdaq"
      },
      "execution_count": null,
      "outputs": []
    },
    {
      "cell_type": "code",
      "source": [
        "d1.accelerate(50)\n",
        "d1.brake(40)\n",
        "d1.info()"
      ],
      "metadata": {
        "colab": {
          "base_uri": "https://localhost:8080/"
        },
        "id": "MYm-866H2GP7",
        "outputId": "78d7cccf-9707-4a3c-83e9-5ae50b8b965c"
      },
      "execution_count": null,
      "outputs": [
        {
          "output_type": "stream",
          "name": "stdout",
          "text": [
            "car's information :\n",
            " brand=audi \n",
            " model=x3 \n",
            " year=2008 \n",
            " speed=70\n"
          ]
        }
      ]
    },
    {
      "cell_type": "code",
      "source": [
        "class Book:\n",
        "  def __init__(self,title,author,year):\n",
        "    self.title = title\n",
        "    self.author = author\n",
        "    self.year = year\n",
        "  # def __str__(self):\n",
        "  #       return f\"{self.title} by {self.author} ({self.year})\"\n",
        "  def __repr__(self):\n",
        "        return f\"Book(title='{self.title}', author='{self.author}', year={self.year})\""
      ],
      "metadata": {
        "id": "Df25uVWo2T1Z"
      },
      "execution_count": null,
      "outputs": []
    },
    {
      "cell_type": "code",
      "source": [
        "class Library():\n",
        "  def __init__(self,book_list=None):\n",
        "    self.book_list = list(book_list) if book_list is not None else []\n",
        "  def add_book(self,book):\n",
        "    self.book_list.append(book)\n",
        "    print(f'{self.book_list}')\n",
        "  def delete_book(self,book):\n",
        "    self.book_list.remove(book)\n",
        "    print(f'{self.book_list}')\n",
        "  def find_book(self,*,title=None,author=None):\n",
        "\n",
        "    if title is None and author is None:\n",
        "            return list(self.book_list)\n",
        "\n",
        "    t = title.strip().lower() if isinstance(title, str) else None\n",
        "    a = author.strip().lower() if isinstance(author, str) else None\n",
        "\n",
        "    result = []\n",
        "    for b in self.book_list:\n",
        "        ok_title  = True if t is None else (t in b.title.lower())\n",
        "        ok_author = True if a is None else (a in b.author.lower())\n",
        "        if ok_title and ok_author:\n",
        "            result.append(b)\n",
        "    return result"
      ],
      "metadata": {
        "id": "WKe-ytq42v1c"
      },
      "execution_count": null,
      "outputs": []
    },
    {
      "cell_type": "code",
      "source": [
        "d1 = Book('war','ali','2001')"
      ],
      "metadata": {
        "id": "ANsweYhQBJKj"
      },
      "execution_count": null,
      "outputs": []
    },
    {
      "cell_type": "code",
      "source": [
        "d2 = Library()\n",
        "d2.add_book(d1)"
      ],
      "metadata": {
        "colab": {
          "base_uri": "https://localhost:8080/"
        },
        "id": "RfKYDba0BLJO",
        "outputId": "ade8de15-720a-4c5c-dd16-3281e50bbea1"
      },
      "execution_count": null,
      "outputs": [
        {
          "output_type": "stream",
          "name": "stdout",
          "text": [
            "[Book(title='war', author='ali', year=2001)]\n"
          ]
        }
      ]
    },
    {
      "cell_type": "code",
      "source": [
        "d3 = Book('tax','iman','2008')"
      ],
      "metadata": {
        "id": "tmReZKLTBJ6q"
      },
      "execution_count": null,
      "outputs": []
    },
    {
      "cell_type": "code",
      "source": [
        "d2.add_book(d3)"
      ],
      "metadata": {
        "colab": {
          "base_uri": "https://localhost:8080/"
        },
        "id": "xTCsYW0ZBLe7",
        "outputId": "a0a56760-a9c6-4c9b-e494-3704bfe73ee2"
      },
      "execution_count": null,
      "outputs": [
        {
          "output_type": "stream",
          "name": "stdout",
          "text": [
            "[Book(title='war', author='ali', year=2001), Book(title='tax', author='iman', year=2008)]\n"
          ]
        }
      ]
    },
    {
      "cell_type": "code",
      "source": [
        "d2.delete_book(d1)"
      ],
      "metadata": {
        "colab": {
          "base_uri": "https://localhost:8080/"
        },
        "id": "KQltWWkCUQUK",
        "outputId": "3b9b856b-d006-4e37-8705-c04dd6b9cd15"
      },
      "execution_count": null,
      "outputs": [
        {
          "output_type": "stream",
          "name": "stdout",
          "text": [
            "[Book(title='tax', author='iman', year=2008)]\n"
          ]
        }
      ]
    },
    {
      "cell_type": "code",
      "source": [
        "d2.find_book(title = 'war',author = 'ali')"
      ],
      "metadata": {
        "id": "UWmRSZBEBJHB",
        "colab": {
          "base_uri": "https://localhost:8080/"
        },
        "outputId": "d0f77c7d-c794-4475-e627-c87ea302484f"
      },
      "execution_count": null,
      "outputs": [
        {
          "output_type": "execute_result",
          "data": {
            "text/plain": [
              "[Book(title='war', author='ali', year=2001)]"
            ]
          },
          "metadata": {},
          "execution_count": 9
        }
      ]
    },
    {
      "cell_type": "code",
      "source": [
        "class Product:\n",
        "  def __init__(self,name,price,quantity):\n",
        "    self.name = name\n",
        "    self.price = float(price)\n",
        "    self.quantity = int(quantity)"
      ],
      "metadata": {
        "id": "9CMISb29BJD6"
      },
      "execution_count": null,
      "outputs": []
    },
    {
      "cell_type": "code",
      "source": [
        "class Store:\n",
        "  def __init__(self,product_list):\n",
        "    self.product_list = list(product_list) if product_list is not None else []\n",
        "\n",
        "  def buy_products(self,name_list,number_list):\n",
        "    names_list = list(name_list)\n",
        "    numbers_list = list(number_list)\n",
        "    summ=0\n",
        "    if len(names_list) != len(numbers_list):\n",
        "            return \"Error: lens are not equal\"\n",
        "    for i in range(0,len(names_list)):\n",
        "      for b in self.product_list:\n",
        "        if self.product_list[b].name == names_list[i]:\n",
        "          if self.product_list[b].quantity >= numbers_list[i]:\n",
        "            summ += numbers_list[i]*b.price\n",
        "            self.product_list[b].quantity -= numbers_list[i]\n",
        "          else:\n",
        "            return f'not enough numbers of {names_list[i]} is higher than our storage({self.product_list[b].quantity})'\n",
        "    return f'you have to pay {summ} \\n {self.product_list}'\n"
      ],
      "metadata": {
        "id": "na8I4QLMLcxJ"
      },
      "execution_count": null,
      "outputs": []
    },
    {
      "cell_type": "code",
      "source": [
        "class Store:\n",
        "  def __init__(self,product_list):\n",
        "    self.product_list = list(product_list) if product_list is not None else []\n",
        "\n",
        "  def buy_products(self,name_list,number_list):\n",
        "    names_list = list(name_list)\n",
        "    numbers_list = list(number_list)\n",
        "    summ=0\n",
        "    if len(names_list) != len(numbers_list):\n",
        "            return \"Error: lens are not equal\"\n",
        "    for i in range(0,len(names_list)):\n",
        "      for b in self.product_list:\n",
        "        if b.name == names_list[i]:\n",
        "          if b.quantity >= numbers_list[i]:\n",
        "            summ += numbers_list[i]*b.price\n",
        "            b.quantity -= numbers_list[i]\n",
        "          else:\n",
        "            return f'not enough numbers of {names_list[i]} is higher than our storage({b.quantity})'\n",
        "    inventory_str = \", \".join(f\"{p.name}:{p.quantity}\" for p in self.product_list)\n",
        "    return f\"you have to pay {summ} /n inventory: {inventory_str}\"\n"
      ],
      "metadata": {
        "id": "1d8vRPxJP0gK"
      },
      "execution_count": null,
      "outputs": []
    },
    {
      "cell_type": "code",
      "source": [
        "d1 = Product('pizza',200,10)\n",
        "d2 = Product('berger',150,18)\n",
        "d3 = Product('rice',50,15)\n",
        "d4 = Product('coda',20,27)\n",
        "d5 = Store([d1 , d2 , d3 , d4])"
      ],
      "metadata": {
        "id": "rmvJ1foaLcty"
      },
      "execution_count": null,
      "outputs": []
    },
    {
      "cell_type": "code",
      "source": [
        "d5.buy_products(name_list=['pizza','coda'],number_list=[3,5])"
      ],
      "metadata": {
        "colab": {
          "base_uri": "https://localhost:8080/",
          "height": 36
        },
        "id": "eHxUXD-fLcrE",
        "outputId": "0cad4d82-971d-430a-b3cb-8bfce56d6433"
      },
      "execution_count": null,
      "outputs": [
        {
          "output_type": "execute_result",
          "data": {
            "text/plain": [
              "'you have to pay 700.0 /n inventory: pizza:7, berger:18, rice:15, coda:22'"
            ],
            "application/vnd.google.colaboratory.intrinsic+json": {
              "type": "string"
            }
          },
          "metadata": {},
          "execution_count": 30
        }
      ]
    }
  ]
}